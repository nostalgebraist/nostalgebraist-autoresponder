{
 "cells": [
  {
   "cell_type": "markdown",
   "metadata": {},
   "source": [
    "This file is a lightweight wrapper around `ml_layer.py`."
   ]
  },
  {
   "cell_type": "code",
   "execution_count": null,
   "metadata": {},
   "outputs": [],
   "source": [
    "from google.colab import auth  # needed on Google Colab to use gsutil\n",
    "auth.authenticate_user()\n",
    "\n",
    "project_id = \"\"  # INSERT YOUR GOOGLE CLOUD PROJECT ID HERE\n",
    "!gcloud config set project {project_id}"
   ]
  },
  {
   "cell_type": "code",
   "execution_count": null,
   "metadata": {},
   "outputs": [],
   "source": [
    "%cd /\n",
    "!git clone https://github.com/nostalgebraist/nostalgebraist-autoresponder.git\n",
    "    \n",
    "%cd /nostalgebraist-autoresponder/"
   ]
  },
  {
   "cell_type": "markdown",
   "metadata": {},
   "source": [
    "`config_file_gs_uri` should be a GS path to the private file `config.json` loaded by the `BotSpecificConstants` class.\n",
    "\n",
    "(I store `config.json` it in GS, but in principle you can store it wherever you like.)"
   ]
  },
  {
   "cell_type": "code",
   "execution_count": null,
   "metadata": {},
   "outputs": [],
   "source": [
    "config_file_gs_uri = \"\"\n",
    "\n",
    "!gsutil cp {config_file_gs_uri} ."
   ]
  },
  {
   "cell_type": "code",
   "execution_count": null,
   "metadata": {},
   "outputs": [],
   "source": [
    "%tensorflow_version 1.x  # needed on Google Colab to use tf1\n",
    "%pip install -r \"gpt-2/requirements.txt\""
   ]
  },
  {
   "cell_type": "markdown",
   "metadata": {},
   "source": [
    "Next cell loads code and models, and takes a while to execute."
   ]
  },
  {
   "cell_type": "code",
   "execution_count": null,
   "metadata": {},
   "outputs": [],
   "source": [
    "import sys\n",
    "\n",
    "sys.path.append(\"gpt-2/\")\n",
    "sys.path.append(\"gpt-2/src/\")\n",
    "\n",
    "from experimental.ml_layer import *"
   ]
  },
  {
   "cell_type": "markdown",
   "metadata": {},
   "source": [
    "Next cell runs the main loop of the ML layer.\n",
    "\n",
    "TODO: explain the use of the `%%capture` magic here.\n",
    "\n",
    "If you want to see logs printed in the notebook, run without `%capture`."
   ]
  },
  {
   "cell_type": "code",
   "execution_count": null,
   "metadata": {},
   "outputs": [],
   "source": [
    "%%capture\n",
    "loop_poll(period=5, )"
   ]
  }
 ],
 "metadata": {
  "kernelspec": {
   "display_name": "pytorch3",
   "language": "python",
   "name": "pytorch3"
  },
  "language_info": {
   "codemirror_mode": {
    "name": "ipython",
    "version": 3
   },
   "file_extension": ".py",
   "mimetype": "text/x-python",
   "name": "python",
   "nbconvert_exporter": "python",
   "pygments_lexer": "ipython3",
   "version": "3.6.6"
  }
 },
 "nbformat": 4,
 "nbformat_minor": 2
}
